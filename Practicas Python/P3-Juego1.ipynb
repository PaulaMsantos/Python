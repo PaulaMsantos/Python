{
 "cells": [
  {
   "cell_type": "markdown",
   "id": "e87fdfc4",
   "metadata": {},
   "source": [
    "# PRACTICA JUEGO CONDICIONALES BUCLES\n",
    "\n",
    "\n",
    "## JUEGO DE ADIVINANZAS\n",
    "\n",
    "#### Escribe un programa que coja un número entero del 1 al 100, y los jugadores tienen que tratar de adivinar el número.\n",
    "\n",
    "#### Las reglas son las siguientes:\n",
    "\n",
    "1. Si un jugador escoje un número menor que 1 o mayor que 100, el programa dice \"FUERA DE LÍMITES\"\n",
    "2. En el primer turno del jugador, si está en un rango de 10 del número dice \"¡CALIENTE!\". Si está fuera de ese rango dice \"¡FRIO!\"\n",
    "3. En todas las rondas siguientes, si el jugador se acerca más que la vez anterior, dice \"¡MAS CALIENTE!\". Si está más lejos que la anterior vez dice \"¡MAS FRIO!\"\n",
    "4. Cuando el jugador acierte el número, les dirá que han acertado y cuántos intentos les ha llevado\n",
    "\n",
    "\n",
    "\n"
   ]
  },
  {
   "cell_type": "markdown",
   "id": "1ea418c3",
   "metadata": {},
   "source": [
    "##### PISTAS\n",
    "1. Trata obtener un número aleatorio entre el 1 y el 100\n",
    "2. Haz una introducción de tu juego y explica las reglas\n",
    "3. Crea una lista que almacene los intentos. \n",
    "4. Haz un bucle que evalúe un número. Prueba que funcione primero. While podría ir bien\n",
    "5. Modifica ese bucle para que compare nuestro número con el intento. Si se acierta usa break, si no puedes usar continue y tienes que seguir preguntando al jugador por nuevos intentos"
   ]
  },
  {
   "cell_type": "code",
   "execution_count": null,
   "id": "9d8095d9",
   "metadata": {},
   "outputs": [
    {
     "name": "stdout",
     "output_type": "stream",
     "text": [
      "Hola esto es un juego. Estoy pensando en un numero del 1 al 100. Te ire dando pistas: si estas a 10 numeros de distancia te dire : CALIENTE CALIENTE; si no, te dire: FRIO FRIO. Si te acercas mas al numero, te dire MAS CALIENTE, pero si te alejas te avisaré.  \n"
     ]
    }
   ],
   "source": [
    "import random\n",
    "numero= random.randint(1,100)\n",
    "intento=0\n",
    "#print(numero)\n",
    "lista_intento=[]\n",
    "print (\"Hola esto es un juego. Estoy pensando en un numero del 1 al 100. Te ire dando pistas: si estas a 10 numeros de distancia te dire : CALIENTE CALIENTE; si no, te dire: FRIO FRIO. Si te acercas mas al numero, te dire MAS CALIENTE, pero si te alejas te avisaré.  \")\n",
    "while True:\n",
    "    intento= int(input (\"introduce el número\"))\n",
    "    lista_intento.append(intento)\n",
    "    if intento < 1 or intento > 100:\n",
    "        print ('ese numero no es valido')\n",
    "        lista_intento.pop(intento)\n",
    "        continue\n",
    "    else:\n",
    "        if numero==intento:\n",
    "            print (\"Muy bien , has ganado!!\")\n",
    "            break\n",
    "        else: \n",
    "            if len(lista_intento)==1:\n",
    "                if intento in range (numero-10,numero+10):\n",
    "                    print('CALIENTE,CALIENTE')\n",
    "            \n",
    "                else:\n",
    "                    print ('FRIO FRIO')\n",
    "            else:\n",
    "                #if abs(intento-numero) < 10:\n",
    "                if abs(intento-numero)< abs(lista_intento[-2]-numero):\n",
    "                    print ('MAS CALIENTE')\n",
    "                else:\n",
    "                    print ('TE ALEJAS')\n",
    "    intento +=1\n",
    "    "
   ]
  }
 ],
 "metadata": {
  "kernelspec": {
   "display_name": "Python 3 (ipykernel)",
   "language": "python",
   "name": "python3"
  },
  "language_info": {
   "codemirror_mode": {
    "name": "ipython",
    "version": 3
   },
   "file_extension": ".py",
   "mimetype": "text/x-python",
   "name": "python",
   "nbconvert_exporter": "python",
   "pygments_lexer": "ipython3",
   "version": "3.12.4"
  }
 },
 "nbformat": 4,
 "nbformat_minor": 5
}
