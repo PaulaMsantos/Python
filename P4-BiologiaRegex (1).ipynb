{
 "cells": [
  {
   "cell_type": "markdown",
   "id": "985e6f9b",
   "metadata": {},
   "source": [
    "# PRACTICA 4\n",
    "\n",
    "### Resuelve los siguientes ejercicios"
   ]
  },
  {
   "cell_type": "markdown",
   "id": "28748e51",
   "metadata": {},
   "source": [
    "##### 1.- Abre el fichero dna.txt, guarda una lista del contenido del archivo. Devuelve su longitud y su primer caracter"
   ]
  },
  {
   "cell_type": "code",
   "execution_count": 25,
   "id": "88679bbc",
   "metadata": {},
   "outputs": [
    {
     "name": "stdout",
     "output_type": "stream",
     "text": [
      "123\n",
      "A\n"
     ]
    }
   ],
   "source": [
    "mi_archivo= open('dna.txt')\n",
    "lista=mi_archivo.readlines()\n",
    "longitud= len(lista[0])\n",
    "caracter= lista[0][0]\n",
    "print (longitud)\n",
    "print (caracter)\n"
   ]
  },
  {
   "cell_type": "markdown",
   "id": "9b87396a",
   "metadata": {},
   "source": [
    "##### 2.- Crea dos archivos. Uno almacena los accession que empiezen por 'a' y el otro el resto"
   ]
  },
  {
   "cell_type": "code",
   "execution_count": 71,
   "id": "73957856",
   "metadata": {},
   "outputs": [
    {
     "data": {
      "text/plain": [
       "['ab56', 'ay93', 'ap97']"
      ]
     },
     "execution_count": 71,
     "metadata": {},
     "output_type": "execute_result"
    }
   ],
   "source": [
    "accs = ['ab56', 'bh84', 'hv76', 'ay93', 'ap97', 'bd72']\n",
    "sitienea = [accession for accession in accs if accession.startswith('a')]\n",
    "siotro = [accession for accession in accs if not accession.startswith('a')]\n",
    "mi_archivo_a= open ('sitienea_archivo.txt','w')\n",
    "mi_archivo_noa= open ('siotro.txt','w')\n",
    "for i in sitienea:\n",
    "    mi_archivo_a.write (i + '\\n')\n",
    "\n",
    "for i in siotro:\n",
    "    mi_archivo_noa.write (i + '\\n') "
   ]
  },
  {
   "cell_type": "markdown",
   "id": "9cbb4adf",
   "metadata": {},
   "source": [
    "##### 3.- Imprime solamente los accessions de la lista anterior que empiecen por 'a' y no acaben con '6'. Pista: usa endswith() y startswidth()"
   ]
  },
  {
   "cell_type": "code",
   "execution_count": 87,
   "id": "b32ca419",
   "metadata": {},
   "outputs": [
    {
     "name": "stdout",
     "output_type": "stream",
     "text": [
      "ay93\n",
      "ap97\n"
     ]
    }
   ],
   "source": [
    "for accession in sitienea:\n",
    "    if not accession.endswith('6'):\n",
    "        print (accession)\n"
   ]
  },
  {
   "cell_type": "markdown",
   "id": "42c397b0",
   "metadata": {},
   "source": [
    "##### 4.- Escribe una función que cuente el porcentaje de A de una secuencia"
   ]
  },
  {
   "cell_type": "code",
   "execution_count": 129,
   "id": "da633510",
   "metadata": {},
   "outputs": [],
   "source": [
    "hola= \"HOLIIRENEQUETALESTASGUAPAWELOVEYOU\"\n",
    "def porcentaje_A (hola):\n",
    "    conteo= hola.count('A')\n",
    "    porcentaje = conteo / len(hola)*100\n",
    "    return porcentaje"
   ]
  },
  {
   "cell_type": "code",
   "execution_count": 131,
   "id": "dfacaaa6-d834-4d68-ac95-795d0e0fa6bb",
   "metadata": {},
   "outputs": [
    {
     "data": {
      "text/plain": [
       "11.76470588235294"
      ]
     },
     "execution_count": 131,
     "metadata": {},
     "output_type": "execute_result"
    }
   ],
   "source": [
    "porcentaje_A(hola)"
   ]
  },
  {
   "cell_type": "markdown",
   "id": "054b8f51",
   "metadata": {},
   "source": [
    "##### ¿Puedes hacer que devuelva dos decimales? ¿Y que lidie con mayúsculas y minúsculas?"
   ]
  },
  {
   "cell_type": "code",
   "execution_count": 161,
   "id": "dc1d5907",
   "metadata": {},
   "outputs": [],
   "source": [
    "hola= \"SoMoSLaSmEjOrEsAlumnaASAaAaAa\"\n",
    "def porcentaje_A (hola):\n",
    "    conteo= hola.count('A')+  hola.count('a')\n",
    "    porcentaje = conteo / len(hola)*100\n",
    "    return round(porcentaje, 2)"
   ]
  },
  {
   "cell_type": "code",
   "execution_count": 159,
   "id": "08eb1a3b-2c03-4ef7-bb08-d6ebaec956c5",
   "metadata": {},
   "outputs": [
    {
     "data": {
      "text/plain": [
       "24.0"
      ]
     },
     "execution_count": 159,
     "metadata": {},
     "output_type": "execute_result"
    }
   ],
   "source": [
    "porcentaje_A(hola)"
   ]
  },
  {
   "cell_type": "markdown",
   "id": "36a03b5f",
   "metadata": {},
   "source": [
    "##### ¿Y que devuelva el número de decimales que yo quiero?"
   ]
  },
  {
   "cell_type": "code",
   "execution_count": 179,
   "id": "1ac51951",
   "metadata": {},
   "outputs": [
    {
     "name": "stdin",
     "output_type": "stream",
     "text": [
      "Cuantos decimales quieres? 5\n"
     ]
    }
   ],
   "source": [
    "hola= \"SoMoSLaSmEjOrEsAlumnaASAaAaAa\"\n",
    "decimales= int(input (\"Cuantos decimales quieres?\"))\n",
    "def porcentaje_A (hola):\n",
    "    hola=hola.upper()\n",
    "    conteo= hola.count('A')\n",
    "    porcentaje = conteo / len(hola)*100\n",
    "    return round(porcentaje, decimales)"
   ]
  },
  {
   "cell_type": "code",
   "execution_count": 181,
   "id": "913d555a-d02b-4371-8074-4feeef07dfcd",
   "metadata": {},
   "outputs": [
    {
     "data": {
      "text/plain": [
       "34.48276"
      ]
     },
     "execution_count": 181,
     "metadata": {},
     "output_type": "execute_result"
    }
   ],
   "source": [
    "porcentaje_A(hola)"
   ]
  },
  {
   "cell_type": "markdown",
   "id": "2c811d84",
   "metadata": {},
   "source": [
    "##### ¿Sabes poner un valor por defecto en un argumento?"
   ]
  },
  {
   "cell_type": "code",
   "execution_count": 173,
   "id": "60981086",
   "metadata": {},
   "outputs": [
    {
     "name": "stdout",
     "output_type": "stream",
     "text": [
      "Hola Paula\n",
      "Hola guapa\n"
     ]
    }
   ],
   "source": [
    "def saludos(nombre=\"guapa\"):\n",
    "        print(f'Hola {nombre}')\n",
    "saludos(\"Paula\")\n",
    "saludos()"
   ]
  },
  {
   "cell_type": "markdown",
   "id": "ab2c106c",
   "metadata": {},
   "source": [
    "##### ¿Qué pasa si no ponemos un argumento? ¿Sabrías hacer una función encapsulada?"
   ]
  },
  {
   "cell_type": "code",
   "execution_count": 177,
   "id": "b155dc1e",
   "metadata": {},
   "outputs": [
    {
     "name": "stdout",
     "output_type": "stream",
     "text": [
      "Hola hola\n"
     ]
    }
   ],
   "source": [
    "#nombre='hola'\n",
    "def saludos():\n",
    "        print(f'Hola {nombre}')\n",
    "saludos()"
   ]
  },
  {
   "cell_type": "markdown",
   "id": "83af4b0f",
   "metadata": {},
   "source": [
    "##### Testea tu función original con assert"
   ]
  },
  {
   "cell_type": "code",
   "execution_count": 199,
   "id": "2bf31b44",
   "metadata": {},
   "outputs": [
    {
     "name": "stdin",
     "output_type": "stream",
     "text": [
      "Cuantos decimales quieres? 4\n"
     ]
    },
    {
     "data": {
      "text/plain": [
       "34.4828"
      ]
     },
     "execution_count": 199,
     "metadata": {},
     "output_type": "execute_result"
    }
   ],
   "source": [
    "hola= \"SoMoSLaSmEjOrEsAlumnaASAaAaAa\"\n",
    "decimales= int(input (\"Cuantos decimales quieres?\"))\n",
    "def porcentaje_A (hola):\n",
    "    hola=hola.upper()\n",
    "    conteo= hola.count('A')\n",
    "    porcentaje = conteo / len(hola)*100\n",
    "    return round(porcentaje, decimales)\n",
    "porcentaje_A(hola)"
   ]
  },
  {
   "cell_type": "code",
   "execution_count": 223,
   "id": "d7a4ffc1-7adc-414a-bf5d-480d020ffb11",
   "metadata": {},
   "outputs": [],
   "source": [
    "assert porcentaje_A(hola) == 34.4828\n",
    "assert porcentaje_A('AAGA') == 75.0000"
   ]
  },
  {
   "cell_type": "markdown",
   "id": "991abaa2",
   "metadata": {},
   "source": [
    "#### 5.- De la lista de accessions que se proporciona obtén lo siguiente:\n",
    "1. Los que tengan el número 5\n",
    "2. Los que tengan la letra 'd' o la 'e'\n",
    "3. Los que tengan las letras 'd' y 'e' en ese orden\n",
    "4. Los que tengan las letras 'd' y 'e' en ese orden con una letra cualquiera en medio\n",
    "5. Los que tengan ambas letras 'd' y 'e' en cualquier orden\n",
    "6. Los que empiezan por 'x' o por 'y'\n",
    "7. Los que empiezan por 'x' o 'y' y terminan por 'e'\n",
    "8. Los que tienen tres o más dígitos seguidos\n",
    "9. Los que terminan con 'd' seguidos de 'a' o 'r' o 'p'"
   ]
  },
  {
   "cell_type": "code",
   "execution_count": 195,
   "id": "6388ac75",
   "metadata": {},
   "outputs": [],
   "source": [
    "import re\n"
   ]
  },
  {
   "cell_type": "code",
   "execution_count": null,
   "id": "6e4efda2-0507-4525-9cab-7951d3b664d1",
   "metadata": {},
   "outputs": [],
   "source": []
  },
  {
   "cell_type": "code",
   "execution_count": 215,
   "id": "d00d3ce7",
   "metadata": {},
   "outputs": [
    {
     "name": "stdout",
     "output_type": "stream",
     "text": [
      "['xkn59438', 'hedle3455', 'xjhd53e', '45da']\n",
      "['ap97', 'ap97', 'ap97', 'ap97', 'ap97']\n",
      "['chdsye847', 'xjhd53e', 'de37dp']\n",
      "['hedle3455']\n",
      "[]\n",
      "['xkn59438', 'yhdck2', 'xjhd53e']\n",
      "['xjhd53e']\n",
      "['xkn59438', 'chdsye847', 'hedle3455']\n",
      "['45da', 'de37dp']\n"
     ]
    }
   ],
   "source": [
    "accs = ['xkn59438', 'yhdck2', 'eihd39d9', 'chdsye847', 'hedle3455', 'xjhd53e', '45da', 'de37dp']\n",
    "con5= [accession for accession in accs if '5' in accession]\n",
    "condoe=[accession for accesion in accs if 'd'in accession or 'e' in accesion]\n",
    "condie = [accession for accession in accs if 'd' in accession and 'e' in accession and accession.index('d')< accession.index('e')]\n",
    "condyeenmedio= [accession for accession in accs if re.search(r'd.e', accession)]\n",
    "condyeencualquierorden= [accession for accesssion in accs if 'd' in accession and 'e'in accession]\n",
    "empiezaporxoy = [accession for accession in accs if accession.startswith('x') or accession.startswith('y')]\n",
    "empiezaporxoyytermina= [accession for accession in accs if (accession.startswith('x') or accession.startswith('y')) and accession.endswith('e')]\n",
    "contresdigitosseguidos = [accession for accession in accs if re.search(r'\\d{3,}',accession)]\n",
    "terminacondyarop =[accession for accession in accs if re.search (r'd[arp]$', accession)]\n",
    "print (con5)\n",
    "print (condoe)\n",
    "print (condie)\n",
    "print (condyeenmedio)\n",
    "print (condyeencualquierorden)\n",
    "print (empiezaporxoy)\n",
    "print (empiezaporxoyytermina)\n",
    "print (contresdigitosseguidos) \n",
    "print (terminacondyarop)\n",
    "        "
   ]
  },
  {
   "cell_type": "code",
   "execution_count": 217,
   "id": "326d51c5-3cbd-40dd-9bb9-198c23f3737d",
   "metadata": {},
   "outputs": [
    {
     "name": "stdout",
     "output_type": "stream",
     "text": [
      "xkn59438\n",
      "hedle3455\n",
      "xjhd53e\n",
      "45da\n"
     ]
    }
   ],
   "source": [
    "for i in accs:\n",
    "    if re.search(r'5',i):\n",
    "        print(i)"
   ]
  }
 ],
 "metadata": {
  "kernelspec": {
   "display_name": "Python 3 (ipykernel)",
   "language": "python",
   "name": "python3"
  },
  "language_info": {
   "codemirror_mode": {
    "name": "ipython",
    "version": 3
   },
   "file_extension": ".py",
   "mimetype": "text/x-python",
   "name": "python",
   "nbconvert_exporter": "python",
   "pygments_lexer": "ipython3",
   "version": "3.12.4"
  }
 },
 "nbformat": 4,
 "nbformat_minor": 5
}
